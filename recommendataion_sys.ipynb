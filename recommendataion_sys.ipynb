{
 "cells": [
  {
   "cell_type": "code",
   "execution_count": 20,
   "metadata": {},
   "outputs": [],
   "source": [
    "# Import Libraries\n",
    "import pandas as pd\n",
    "import numpy as np\n",
    "from sklearn.feature_extraction.text import TfidfVectorizer\n",
    "from sklearn.metrics.pairwise import cosine_similarity\n",
    "from sklearn.preprocessing import MinMaxScaler\n",
    "import spacy\n",
    "from spacy.lang.en.stop_words import STOP_WORDS\n",
    "from scipy.spatial.distance import pdist, squareform\n",
    "import pickle"
   ]
  },
  {
   "cell_type": "code",
   "execution_count": 21,
   "metadata": {},
   "outputs": [],
   "source": [
    "# Define Function to Clean and Extract Tags\n",
    "nlp = spacy.load(\"en_core_web_sm\")\n",
    "\n",
    "def clean_and_extract_tags(text):\n",
    "    if isinstance(text, str):  \n",
    "        doc = nlp(text.lower())\n",
    "        tags = [token.text for token in doc if token.text.isalnum() and token.text not in STOP_WORDS]\n",
    "        return ', '.join(tags)\n",
    "    return ''  "
   ]
  },
  {
   "cell_type": "markdown",
   "metadata": {},
   "source": [
    "# Content Based Hybrid Model"
   ]
  },
  {
   "cell_type": "code",
   "execution_count": 4,
   "metadata": {},
   "outputs": [],
   "source": [
    "# Content Based Recommendation Class\n",
    "\n",
    "class DiverseRecommendationSystem:\n",
    "    def __init__(self, df):\n",
    "        self.df = df\n",
    "        self.prepare_features()\n",
    "    \n",
    "    def prepare_features(self):\n",
    "        # Combine multiple text features\n",
    "        self.df['combined_features'] = (\n",
    "            self.df['Product Name'] + ' ' + \n",
    "            self.df['Product Description'] + ' ' + \n",
    "            self.df['Product Tags']\n",
    "        )\n",
    "        \n",
    "        self.df['category_brand'] = (\n",
    "            self.df['Product Category'].fillna('') + ' ' + \n",
    "            self.df['Product Brand'].fillna('')\n",
    "        )\n",
    "        \n",
    "        self.content_similarity = self.compute_text_similarity()\n",
    "        self.category_similarity = self.compute_category_similarity()\n",
    "        self.price_similarity = self.compute_price_similarity()\n",
    "        self.rating_similarity = self.compute_rating_similarity()\n",
    "        \n",
    "    def compute_text_similarity(self):\n",
    "        tfidf = TfidfVectorizer(stop_words='english')\n",
    "        feature_matrix = tfidf.fit_transform(self.df['combined_features'])\n",
    "        return cosine_similarity(feature_matrix)\n",
    "    \n",
    "    def compute_category_similarity(self):\n",
    "        tfidf = TfidfVectorizer(stop_words='english')\n",
    "        category_matrix = tfidf.fit_transform(self.df['category_brand'])\n",
    "        return cosine_similarity(category_matrix)\n",
    "    \n",
    "    def compute_price_similarity(self):\n",
    "        prices = self.df['Product Price'].fillna(0).values.reshape(-1, 1)\n",
    "        scaler = MinMaxScaler()\n",
    "        normalized_prices = scaler.fit_transform(prices)\n",
    "        price_distances = pdist(normalized_prices, metric='euclidean')\n",
    "        return 1 - squareform(price_distances)  # Convert distances to similarities\n",
    "    \n",
    "    def compute_rating_similarity(self):\n",
    "        ratings = self.df['Product Rating'].fillna(0).values.reshape(-1, 1)\n",
    "        scaler = MinMaxScaler()\n",
    "        normalized_ratings = scaler.fit_transform(ratings)\n",
    "        rating_distances = pdist(normalized_ratings, metric='euclidean')\n",
    "        return 1 - squareform(rating_distances)\n",
    "    \n",
    "    def get_diverse_recommendations(self, product_id, n_recommendations=10, \n",
    "                                  content_weight=0.3,\n",
    "                                  category_weight=0.4,\n",
    "                                  price_weight=0.2,\n",
    "                                  rating_weight=0.0,\n",
    "                                  diversity_threshold=0.6):\n",
    "        try:\n",
    "            \n",
    "            idx = self.df[self.df['Product Id'] == product_id].index[0]\n",
    "        \n",
    "            # Compute weighted hybrid similarity\n",
    "            hybrid_scores = (\n",
    "            content_weight * self.content_similarity[idx] +\n",
    "            category_weight * self.category_similarity[idx] +\n",
    "            price_weight * self.price_similarity[idx] +\n",
    "            rating_weight * self.rating_similarity[idx]\n",
    "            )\n",
    "        \n",
    "            recommendations = []\n",
    "            used_indices = {idx}  \n",
    "        \n",
    "            candidate_indices = np.argsort(hybrid_scores)[::-1]\n",
    "        \n",
    "            for candidate_idx in candidate_indices:\n",
    "                if candidate_idx in used_indices:\n",
    "                    continue\n",
    "                \n",
    "            # Check diversity with existing recommendations\n",
    "                is_diverse = True\n",
    "                for rec_idx in used_indices:\n",
    "                    similarity = (\n",
    "                        content_weight * self.content_similarity[candidate_idx][rec_idx] +\n",
    "                        category_weight * self.category_similarity[candidate_idx][rec_idx] +\n",
    "                        price_weight * self.price_similarity[candidate_idx][rec_idx] +\n",
    "                        rating_weight * self.rating_similarity[candidate_idx][rec_idx]\n",
    "                    )\n",
    "                    if similarity > diversity_threshold:\n",
    "                        is_diverse = False\n",
    "                        break\n",
    "            \n",
    "                if is_diverse:\n",
    "                    recommendations.append(self.df.iloc[candidate_idx]['Product Id'])  \n",
    "                    used_indices.add(candidate_idx)\n",
    "            \n",
    "                if len(recommendations) >= n_recommendations:\n",
    "                    break\n",
    "        \n",
    "            return recommendations  \n",
    "        \n",
    "        except Exception as e:\n",
    "            print(f\"Error generating recommendations: {str(e)}\")\n",
    "            return []"
   ]
  },
  {
   "cell_type": "code",
   "execution_count": 18,
   "metadata": {},
   "outputs": [
    {
     "name": "stdout",
     "output_type": "stream",
     "text": [
      "Columns in the DataFrame:\n",
      "'Unnamed: 0' (length: 10)\n",
      "'Uniq Id' (length: 7)\n",
      "'Product Id' (length: 10)\n",
      "'Product Category' (length: 16)\n",
      "'Product Brand' (length: 13)\n",
      "'Product Name' (length: 12)\n",
      "'Product Price' (length: 13)\n",
      "'Product Description' (length: 19)\n",
      "'Product Image Url' (length: 17)\n",
      "'Product Tags' (length: 12)\n",
      "'Product Rating' (length: 14)\n",
      "'Product Reviews Count' (length: 21)\n",
      "Checking for NaN values in relevant columns:\n",
      "Product Description    1127\n",
      "Product Tags              0\n",
      "dtype: int64\n",
      "Checking for NaN values in numerical columns:\n",
      "Product Price              42\n",
      "Product Rating           2792\n",
      "Product Reviews Count    1650\n",
      "dtype: int64\n"
     ]
    }
   ],
   "source": [
    "# Load and process data\n",
    "\n",
    "products = pd.read_csv('final_products.csv')  \n",
    "\n",
    "print(\"Columns in the DataFrame:\")\n",
    "for col in products.columns:\n",
    "    print(f\"'{col}' (length: {len(col)})\")\n",
    "\n",
    "print(\"Checking for NaN values in relevant columns:\")\n",
    "print(products[['Product Description', 'Product Tags']].isnull().sum())\n",
    "\n",
    "products['Product Description'] = products['Product Description'].fillna('')\n",
    "products['Product Tags'] = products['Product Tags'].fillna('')\n",
    "\n",
    "num_columns = ['Product Price', 'Product Rating', 'Product Reviews Count']\n",
    "for column in num_columns:\n",
    "    products[column] = pd.to_numeric(products[column], errors='coerce')  \n",
    "\n",
    "print(\"Checking for NaN values in numerical columns:\")\n",
    "print(products[num_columns].isnull().sum())\n",
    "\n",
    "products[num_columns] = products[num_columns].fillna(0)\n",
    "\n",
    "for column in ['Product Description', 'Product Tags']:\n",
    "    products[column] = products[column].apply(clean_and_extract_tags)\n",
    "    "
   ]
  },
  {
   "cell_type": "code",
   "execution_count": 54,
   "metadata": {},
   "outputs": [],
   "source": [
    "# Initialize the Recommendation System and Save as pkl file\n",
    "rec_system = DiverseRecommendationSystem(products)\n",
    "with open('content_rec.pkl', 'wb') as f:\n",
    "    pickle.dump(rec_system, f)"
   ]
  },
  {
   "cell_type": "markdown",
   "metadata": {},
   "source": [
    "## User may also like"
   ]
  },
  {
   "cell_type": "code",
   "execution_count": 29,
   "metadata": {},
   "outputs": [
    {
     "name": "stdout",
     "output_type": "stream",
     "text": [
      "\n",
      "Diverse recommendations for Product ID f7b3fbeefd6ac9b22403b8a083656cd1: ['fff36074421d36893b704f3325d28518', '5a3aef3e41321dedbedf7b6d701446e7', 'a6a830de8f5cd3e62e3c3024e6035764', '54cf22213ad13a4eab8c6412239e3579', 'd9978813405b8576df47d69dd1832f19', 'b039fc42321106b9f5a60e50613ea990', 'fa7e5052c316b59d3ff43f82de4d37aa', '7f1efeabc9b5e269425a174f69a1cf77', '2ab8b8b553b3d97ea00afa8748c487c5', '66439a0e31a2e45a8644e13b3951d7e2']\n"
     ]
    }
   ],
   "source": [
    "# Block 7: Get Recommendations for a Specific Product\n",
    "product_id = 'f7b3fbeefd6ac9b22403b8a083656cd1'\n",
    "recommendations = rec_system.get_diverse_recommendations(\n",
    "        product_id,\n",
    "        n_recommendations=10\n",
    "    )\n",
    "    \n",
    "    # Print recommendations\n",
    "print(f\"\\nDiverse recommendations for Product ID {product_id}:\",recommendations)"
   ]
  },
  {
   "cell_type": "markdown",
   "metadata": {},
   "source": [
    "## Similar Items"
   ]
  },
  {
   "cell_type": "code",
   "execution_count": 55,
   "metadata": {},
   "outputs": [
    {
     "name": "stdout",
     "output_type": "stream",
     "text": [
      "\n",
      "Diverse recommendations for Product ID f7b3fbeefd6ac9b22403b8a083656cd1: ['f6e3334629f2d753f7bd0fbb05223f5e', 'db22de6a3e47eeea083c1fae8ef68657', '6ba0ae7b9b50bb69fb66f4551b3269cf', '5a3aef3e41321dedbedf7b6d701446e7', '8a723fae706cd0135037a1091c5a993a', '2fccae8c299f3c29fe93017ea779a1f4', 'c6f68771315ff9b0404c68297ebbfac1', '7f1efeabc9b5e269425a174f69a1cf77', 'd86b009636f7fb3a2683cbd14a11f17d', '0c1054e3d6b67991ee587bd7ff39e5eb', '05381e1a57648f42615b63379ac2c114', 'd9978813405b8576df47d69dd1832f19', 'bed58b3f1a3246fc34ea71ec91511083', '1f9bafa0fde3499ed9dfa5dae9c6f3a2', '7d1df2ce4daed6ead595c5153731151f']\n"
     ]
    }
   ],
   "source": [
    "product_id = 'f7b3fbeefd6ac9b22403b8a083656cd1'\n",
    "recommendations = rec_system.get_diverse_recommendations(\n",
    "        product_id,\n",
    "        n_recommendations=15,\n",
    "        content_weight=0.5,\n",
    "        category_weight=0.1,\n",
    "        price_weight=0.0,\n",
    "        rating_weight=0.0,\n",
    "        diversity_threshold=0.3\n",
    "    )\n",
    "    \n",
    "    # Print recommendations\n",
    "print(f\"\\nDiverse recommendations for Product ID {product_id}:\",recommendations)\n"
   ]
  },
  {
   "cell_type": "markdown",
   "metadata": {},
   "source": [
    "# Collaborative recommendation"
   ]
  },
  {
   "cell_type": "code",
   "execution_count": 7,
   "metadata": {},
   "outputs": [],
   "source": [
    "import pandas as pd\n",
    "from sklearn.metrics.pairwise import cosine_similarity\n",
    "import numpy as np\n",
    "\n",
    "# Load user interactions data\n",
    "user_interactions = pd.read_csv('D:\\python_progs\\\\recommend_system\\website_building\\\\balanced_synthetic_interactions.csv')  # Adjust the filename as necessary\n",
    "user_interaction_matrix = pd.read_csv('D:\\python_progs\\\\recommend_system\\website_building\\\\balanced_interaction_matrix.csv')  # Adjust the filename as necessary\n"
   ]
  },
  {
   "cell_type": "code",
   "execution_count": 9,
   "metadata": {},
   "outputs": [],
   "source": [
    "# Calculate cosine similarity between products\n",
    "product_similarity = cosine_similarity(user_interaction_matrix.T)  # Transpose to get products as rows\n",
    "product_similarity_df = pd.DataFrame(product_similarity, \n",
    "                                      index=user_interaction_matrix.columns, \n",
    "                                      columns=user_interaction_matrix.columns)\n",
    "\n",
    "\n"
   ]
  },
  {
   "cell_type": "code",
   "execution_count": 5,
   "metadata": {},
   "outputs": [],
   "source": [
    "class CollaborativeRecommendationSystem:\n",
    "    def __init__(self, user_interaction_matrix):\n",
    "        self.user_interaction_matrix = user_interaction_matrix\n",
    "        self.product_similarity = self.compute_product_similarity()\n",
    "\n",
    "    def compute_product_similarity(self):\n",
    "        from sklearn.metrics.pairwise import cosine_similarity\n",
    "        product_similarity = cosine_similarity(self.user_interaction_matrix.T)  # Transpose to get products as rows\n",
    "        return pd.DataFrame(product_similarity, index=self.user_interaction_matrix.columns, columns=self.user_interaction_matrix.columns)\n",
    "\n",
    "    def get_col_recommendations(self, product_id, n_recommendations=10):\n",
    "        if product_id not in self.product_similarity.columns:\n",
    "            return []\n",
    "\n",
    "        similar_scores = self.product_similarity[product_id]\n",
    "        top_recommendations = similar_scores.sort_values(ascending=False).head(n_recommendations + 1)  # +1 to exclude the product itself\n",
    "        return top_recommendations.index[1:].tolist()"
   ]
  },
  {
   "cell_type": "code",
   "execution_count": 43,
   "metadata": {},
   "outputs": [],
   "source": [
    "collab_system=CollaborativeRecommendationSystem(user_interaction_matrix)\n",
    "with open('collab_rec.pkl', 'wb') as f:\n",
    "    pickle.dump(collab_system, f)"
   ]
  },
  {
   "cell_type": "code",
   "execution_count": 44,
   "metadata": {},
   "outputs": [
    {
     "name": "stdout",
     "output_type": "stream",
     "text": [
      "Recommendations for Product ID 742ff862e17f41b3c1611f0e22c1009e : ['eb407ddeb992ff7d53e6ee1edb54d7ac', '2ee0076aa415e7d4cc0927f1714bbbef', 'b11b0ef4ad16247f58d0b6f18e6f4b65', '2135948483fa7498ca3d81273897f4a4', 'b498d2c95a40d8f2cb95bb1cf1e1fe15', 'd1116fac5d14f9bc135b3f4cbbddddc4', '62cf58a85b4370f093d569c79994312a', '4003dd622780002d65617e72555f4f38', '262535d639646224749679971d2a28aa', 'ac1d22278f2e7ea03af1f765d9388b6f']\n"
     ]
    }
   ],
   "source": [
    "product_id = '742ff862e17f41b3c1611f0e22c1009e'  \n",
    "recommendations = collab_system.get_col_recommendations(product_id)\n",
    "print(\"Recommendations for Product ID\", product_id, \":\", recommendations)"
   ]
  },
  {
   "cell_type": "markdown",
   "metadata": {},
   "source": [
    "# Hybrid rec"
   ]
  },
  {
   "cell_type": "code",
   "execution_count": 9,
   "metadata": {},
   "outputs": [
    {
     "name": "stdout",
     "output_type": "stream",
     "text": [
      "Models loaded successfully.\n"
     ]
    }
   ],
   "source": [
    "import pickle\n",
    "\n",
    "def load_model(model_path):\n",
    "    with open(model_path, 'rb') as f:\n",
    "        return pickle.load(f)\n",
    "    \n",
    "\n",
    "rec_system = load_model('D:\\\\python_progs\\\\recommend_system\\\\website_building\\\\content_rec.pkl')\n",
    "collab_system = load_model('D:\\\\python_progs\\\\recommend_system\\\\website_building\\\\collab_rec.pkl')\n",
    "print(\"Models loaded successfully.\")"
   ]
  },
  {
   "cell_type": "code",
   "execution_count": 18,
   "metadata": {},
   "outputs": [],
   "source": [
    "def hybrid_recommendations(product_id):\n",
    "    # Get recommendations from content-based and collaborative filtering models\n",
    "    content_based_rec = rec_system.get_diverse_recommendations(product_id)  # This should return a list of product IDs\n",
    "    collaborative_filtering_rec = collab_system.get_col_recommendations(product_id)  # This should also return a list of product IDs\n",
    "\n",
    "    # Convert lists to DataFrames\n",
    "    content_based_df = pd.DataFrame(content_based_rec, columns=['Product Id'])\n",
    "    collaborative_filtering_df = pd.DataFrame(collaborative_filtering_rec, columns=['Product Id'])\n",
    "\n",
    "    # Merge and deduplicate the recommendations\n",
    "    hybrid_rec = pd.concat([content_based_df, collaborative_filtering_df]).drop_duplicates()\n",
    "\n",
    "    shuffled_hybrid_rec = hybrid_rec.sample(frac=1).reset_index(drop=True)  # Shuffle the DataFrame\n",
    "    product_id_list = shuffled_hybrid_rec['Product Id'].head(15).tolist()\n",
    "\n",
    "    return product_id_list\n",
    "\n"
   ]
  },
  {
   "cell_type": "code",
   "execution_count": 19,
   "metadata": {},
   "outputs": [
    {
     "name": "stdout",
     "output_type": "stream",
     "text": [
      "Recommendations for Product ID 742ff862e17f41b3c1611f0e22c1009e : ['eb407ddeb992ff7d53e6ee1edb54d7ac', 'e49c35631b91a1cd4fa8c15ad84f77c4', 'd1116fac5d14f9bc135b3f4cbbddddc4', '6ebdb6c57db3dbf89962af50393011c4', 'ac1d22278f2e7ea03af1f765d9388b6f', 'b559a45841fe01d6cb6a972a2512c2c1', '62cf58a85b4370f093d569c79994312a', '2135948483fa7498ca3d81273897f4a4', '262535d639646224749679971d2a28aa', '2ee0076aa415e7d4cc0927f1714bbbef', '998612eb7af80112dae05de1d0931651', 'b498d2c95a40d8f2cb95bb1cf1e1fe15', 'b11b0ef4ad16247f58d0b6f18e6f4b65', '4003dd622780002d65617e72555f4f38', '2a6bf71eb3889c98402085e37b3d62b4']\n"
     ]
    }
   ],
   "source": [
    "product_id = '742ff862e17f41b3c1611f0e22c1009e'  \n",
    "recommendations = hybrid_recommendations(product_id)\n",
    "print(\"Recommendations for Product ID\", product_id, \":\", recommendations)"
   ]
  },
  {
   "cell_type": "code",
   "execution_count": null,
   "metadata": {},
   "outputs": [],
   "source": []
  }
 ],
 "metadata": {
  "kernelspec": {
   "display_name": "Python 3",
   "language": "python",
   "name": "python3"
  },
  "language_info": {
   "codemirror_mode": {
    "name": "ipython",
    "version": 3
   },
   "file_extension": ".py",
   "mimetype": "text/x-python",
   "name": "python",
   "nbconvert_exporter": "python",
   "pygments_lexer": "ipython3",
   "version": "3.11.9"
  }
 },
 "nbformat": 4,
 "nbformat_minor": 2
}
